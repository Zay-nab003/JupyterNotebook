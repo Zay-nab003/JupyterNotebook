{
 "cells": [
  {
   "cell_type": "markdown",
   "id": "78a82aff-4981-4723-81ab-ebb96ee3b5cb",
   "metadata": {},
   "source": [
    "# Data Science Tools and Ecosystem"
   ]
  },
  {
   "cell_type": "markdown",
   "id": "6856ac27-fb77-4446-889a-43f168b292be",
   "metadata": {},
   "source": [
    "# In this notebook, Data Science Tools and Ecosystem are summarized."
   ]
  },
  {
   "cell_type": "markdown",
   "id": "98149387-dc04-4f74-b521-8f0723f1b8bc",
   "metadata": {},
   "source": [
    "\"Some of the popular languages that Data Scientists use are\"\n",
    "1. Python\n",
    "2. R\n",
    "3. SQL"
   ]
  },
  {
   "cell_type": "markdown",
   "id": "3b7d2c6c-37c3-4ad8-9ac5-bcc69b4e30fe",
   "metadata": {},
   "source": [
    "\"Some of the commonly used libraries used by Data Scientists include\"\n",
    "1. Pandas\n",
    "2. NumPy\n",
    "3. Matplotlib"
   ]
  },
  {
   "cell_type": "markdown",
   "id": "ab535c50-b310-4070-9cbe-d84b4a9ebe9d",
   "metadata": {},
   "source": [
    "# Data Science Tools\n",
    "|----------------|\n",
    "|Jupyter Notebook|\n",
    "|RStudio         |\n",
    "|Apache Hadoop   |"
   ]
  },
  {
   "cell_type": "markdown",
   "id": "fa58b76a-b36e-4553-8f6a-770b0c619866",
   "metadata": {},
   "source": [
    "### Below are a few examples of evaluating arithmetic expressions in Python"
   ]
  },
  {
   "cell_type": "markdown",
   "id": "beace58a-2dff-4b7d-97d4-b7b00eced3ad",
   "metadata": {},
   "source": [
    "# This a simple arithmetic expression to mutiply then add integers"
   ]
  },
  {
   "cell_type": "code",
   "execution_count": 1,
   "id": "3fedddba-f96c-4cc3-9cae-88077b184e44",
   "metadata": {},
   "outputs": [
    {
     "data": {
      "text/plain": [
       "17"
      ]
     },
     "execution_count": 1,
     "metadata": {},
     "output_type": "execute_result"
    }
   ],
   "source": [
    "(3*4)+5"
   ]
  },
  {
   "cell_type": "markdown",
   "id": "4b04d2cf-dcca-476e-aed4-18c155cead2e",
   "metadata": {},
   "source": [
    "# This will convert 200 minutes to hours by diving by 60"
   ]
  },
  {
   "cell_type": "code",
   "execution_count": 2,
   "id": "6e2ec3fc-8b95-4b4c-8472-1ae5f6131a04",
   "metadata": {},
   "outputs": [
    {
     "name": "stdout",
     "output_type": "stream",
     "text": [
      "3.3333333333333335\n"
     ]
    }
   ],
   "source": [
    "minutes = 200\n",
    "hours = minutes / 60\n",
    "print(hours) "
   ]
  },
  {
   "cell_type": "markdown",
   "id": "3491253a-9244-4681-b3a4-d586ae8f8fc4",
   "metadata": {},
   "source": [
    "**Objectives:**\n",
    "\n",
    "- List popular languages for Data Science\n",
    "- Identify commonly used libraries for Data Science\n",
    "- Provide examples of arithmetic operations in Python\n",
    "- Convert time units (minutes to hours) using Python"
   ]
  },
  {
   "cell_type": "markdown",
   "id": "72437fef-cfd1-4357-98da-cb5df57f5981",
   "metadata": {},
   "source": [
    "## Author\n",
    "\n",
    "[Zainab Salami]"
   ]
  }
 ],
 "metadata": {
  "kernelspec": {
   "display_name": "Python 3 (ipykernel)",
   "language": "python",
   "name": "python3"
  },
  "language_info": {
   "codemirror_mode": {
    "name": "ipython",
    "version": 3
   },
   "file_extension": ".py",
   "mimetype": "text/x-python",
   "name": "python",
   "nbconvert_exporter": "python",
   "pygments_lexer": "ipython3",
   "version": "3.11.7"
  }
 },
 "nbformat": 4,
 "nbformat_minor": 5
}
