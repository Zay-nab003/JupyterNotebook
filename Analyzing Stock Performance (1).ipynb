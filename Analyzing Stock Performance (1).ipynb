{
 "cells": [
  {
   "cell_type": "code",
   "execution_count": 35,
   "id": "fa0a553d-3a46-419f-bfca-df71f43e732c",
   "metadata": {},
   "outputs": [
    {
     "name": "stdout",
     "output_type": "stream",
     "text": [
      "Requirement already satisfied: yfinance in c:\\users\\user\\anaconda3\\lib\\site-packages (0.2.46)\n",
      "Requirement already satisfied: pandas>=1.3.0 in c:\\users\\user\\anaconda3\\lib\\site-packages (from yfinance) (2.2.2)\n",
      "Requirement already satisfied: numpy>=1.16.5 in c:\\users\\user\\anaconda3\\lib\\site-packages (from yfinance) (1.26.4)\n",
      "Requirement already satisfied: requests>=2.31 in c:\\users\\user\\anaconda3\\lib\\site-packages (from yfinance) (2.31.0)\n",
      "Requirement already satisfied: multitasking>=0.0.7 in c:\\users\\user\\anaconda3\\lib\\site-packages (from yfinance) (0.0.11)\n",
      "Requirement already satisfied: lxml>=4.9.1 in c:\\users\\user\\anaconda3\\lib\\site-packages (from yfinance) (4.9.3)\n",
      "Requirement already satisfied: platformdirs>=2.0.0 in c:\\users\\user\\anaconda3\\lib\\site-packages (from yfinance) (3.10.0)\n",
      "Requirement already satisfied: pytz>=2022.5 in c:\\users\\user\\anaconda3\\lib\\site-packages (from yfinance) (2023.3.post1)\n",
      "Requirement already satisfied: frozendict>=2.3.4 in c:\\users\\user\\anaconda3\\lib\\site-packages (from yfinance) (2.4.2)\n",
      "Requirement already satisfied: peewee>=3.16.2 in c:\\users\\user\\anaconda3\\lib\\site-packages (from yfinance) (3.17.7)\n",
      "Requirement already satisfied: beautifulsoup4>=4.11.1 in c:\\users\\user\\anaconda3\\lib\\site-packages (from yfinance) (4.12.2)\n",
      "Requirement already satisfied: html5lib>=1.1 in c:\\users\\user\\anaconda3\\lib\\site-packages (from yfinance) (1.1)\n",
      "Requirement already satisfied: soupsieve>1.2 in c:\\users\\user\\anaconda3\\lib\\site-packages (from beautifulsoup4>=4.11.1->yfinance) (2.5)\n",
      "Requirement already satisfied: six>=1.9 in c:\\users\\user\\anaconda3\\lib\\site-packages (from html5lib>=1.1->yfinance) (1.16.0)\n",
      "Requirement already satisfied: webencodings in c:\\users\\user\\anaconda3\\lib\\site-packages (from html5lib>=1.1->yfinance) (0.5.1)\n",
      "Requirement already satisfied: python-dateutil>=2.8.2 in c:\\users\\user\\anaconda3\\lib\\site-packages (from pandas>=1.3.0->yfinance) (2.8.2)\n",
      "Requirement already satisfied: tzdata>=2022.7 in c:\\users\\user\\anaconda3\\lib\\site-packages (from pandas>=1.3.0->yfinance) (2023.3)\n",
      "Requirement already satisfied: charset-normalizer<4,>=2 in c:\\users\\user\\anaconda3\\lib\\site-packages (from requests>=2.31->yfinance) (2.0.4)\n",
      "Requirement already satisfied: idna<4,>=2.5 in c:\\users\\user\\anaconda3\\lib\\site-packages (from requests>=2.31->yfinance) (3.4)\n",
      "Requirement already satisfied: urllib3<3,>=1.21.1 in c:\\users\\user\\anaconda3\\lib\\site-packages (from requests>=2.31->yfinance) (2.0.7)\n",
      "Requirement already satisfied: certifi>=2017.4.17 in c:\\users\\user\\anaconda3\\lib\\site-packages (from requests>=2.31->yfinance) (2024.6.2)\n",
      "Requirement already satisfied: bs4 in c:\\users\\user\\anaconda3\\lib\\site-packages (0.0.2)\n",
      "Requirement already satisfied: beautifulsoup4 in c:\\users\\user\\anaconda3\\lib\\site-packages (from bs4) (4.12.2)\n",
      "Requirement already satisfied: soupsieve>1.2 in c:\\users\\user\\anaconda3\\lib\\site-packages (from beautifulsoup4->bs4) (2.5)\n",
      "Requirement already satisfied: nbformat in c:\\users\\user\\anaconda3\\lib\\site-packages (5.9.2)\n",
      "Requirement already satisfied: fastjsonschema in c:\\users\\user\\anaconda3\\lib\\site-packages (from nbformat) (2.16.2)\n",
      "Requirement already satisfied: jsonschema>=2.6 in c:\\users\\user\\anaconda3\\lib\\site-packages (from nbformat) (4.19.2)\n",
      "Requirement already satisfied: jupyter-core in c:\\users\\user\\anaconda3\\lib\\site-packages (from nbformat) (5.5.0)\n",
      "Requirement already satisfied: traitlets>=5.1 in c:\\users\\user\\anaconda3\\lib\\site-packages (from nbformat) (5.7.1)\n",
      "Requirement already satisfied: attrs>=22.2.0 in c:\\users\\user\\anaconda3\\lib\\site-packages (from jsonschema>=2.6->nbformat) (23.1.0)\n",
      "Requirement already satisfied: jsonschema-specifications>=2023.03.6 in c:\\users\\user\\anaconda3\\lib\\site-packages (from jsonschema>=2.6->nbformat) (2023.7.1)\n",
      "Requirement already satisfied: referencing>=0.28.4 in c:\\users\\user\\anaconda3\\lib\\site-packages (from jsonschema>=2.6->nbformat) (0.30.2)\n",
      "Requirement already satisfied: rpds-py>=0.7.1 in c:\\users\\user\\anaconda3\\lib\\site-packages (from jsonschema>=2.6->nbformat) (0.10.6)\n",
      "Requirement already satisfied: platformdirs>=2.5 in c:\\users\\user\\anaconda3\\lib\\site-packages (from jupyter-core->nbformat) (3.10.0)\n",
      "Requirement already satisfied: pywin32>=300 in c:\\users\\user\\anaconda3\\lib\\site-packages (from jupyter-core->nbformat) (305.1)\n",
      "Requirement already satisfied: beautifulsoup4 in c:\\users\\user\\anaconda3\\lib\\site-packages (4.12.2)\n",
      "Requirement already satisfied: html5lib in c:\\users\\user\\anaconda3\\lib\\site-packages (1.1)\n",
      "Requirement already satisfied: soupsieve>1.2 in c:\\users\\user\\anaconda3\\lib\\site-packages (from beautifulsoup4) (2.5)\n",
      "Requirement already satisfied: six>=1.9 in c:\\users\\user\\anaconda3\\lib\\site-packages (from html5lib) (1.16.0)\n",
      "Requirement already satisfied: webencodings in c:\\users\\user\\anaconda3\\lib\\site-packages (from html5lib) (0.5.1)\n"
     ]
    }
   ],
   "source": [
    "!pip install yfinance\n",
    "!pip install bs4\n",
    "!pip install nbformat\n",
    "!pip install beautifulsoup4 html5lib"
   ]
  },
  {
   "cell_type": "code",
   "execution_count": 6,
   "id": "3ffd5874-2413-47c2-826e-b6be9204aab4",
   "metadata": {},
   "outputs": [],
   "source": [
    "import yfinance as yf\n",
    "import pandas as pd\n",
    "import requests\n",
    "from bs4 import BeautifulSoup\n",
    "import plotly.graph_objects as go\n",
    "from plotly.subplots import make_subplots"
   ]
  },
  {
   "cell_type": "code",
   "execution_count": 7,
   "id": "1811237b-5c90-4f55-8919-80375e3276c2",
   "metadata": {},
   "outputs": [],
   "source": [
    "import warnings\n",
    "# Ignore all warnings\n",
    "warnings.filterwarnings(\"ignore\", category=FutureWarning)"
   ]
  },
  {
   "cell_type": "code",
   "execution_count": 8,
   "id": "b07ea897-402e-47bb-9451-f3a9f8d1665a",
   "metadata": {},
   "outputs": [],
   "source": [
    "def make_graph(stock_data, revenue_data, stock):\n",
    "    fig = make_subplots(rows=2, cols=1, shared_xaxes=True, subplot_titles=(\"Historical Share Price\", \"Historical Revenue\"), vertical_spacing = .3)\n",
    "    stock_data_specific = stock_data[stock_data.Date <= '2021--06-14']\n",
    "    revenue_data_specific = revenue_data[revenue_data.Date <= '2021-04-30']\n",
    "    fig.add_trace(go.Scatter(x=pd.to_datetime(stock_data_specific.Date, infer_datetime_format=True), y=stock_data_specific.Close.astype(\"float\"), name=\"Share Price\"), row=1, col=1)\n",
    "    fig.add_trace(go.Scatter(x=pd.to_datetime(revenue_data_specific.Date, infer_datetime_format=True), y=revenue_data_specific.Revenue.astype(\"float\"), name=\"Revenue\"), row=2, col=1)\n",
    "    fig.update_xaxes(title_text=\"Date\", row=1, col=1)\n",
    "    fig.update_xaxes(title_text=\"Date\", row=2, col=1)\n",
    "    fig.update_yaxes(title_text=\"Price ($US)\", row=1, col=1)\n",
    "    fig.update_yaxes(title_text=\"Revenue ($US Millions)\", row=2, col=1)\n",
    "    fig.update_layout(showlegend=False,\n",
    "    height=900,\n",
    "    title=stock,\n",
    "    xaxis_rangeslider_visible=True)\n",
    "    fig.show()"
   ]
  },
  {
   "cell_type": "code",
   "execution_count": 9,
   "id": "a7f3a704-c9eb-4071-821c-649af3622277",
   "metadata": {},
   "outputs": [],
   "source": [
    "Tesla = yf.Ticker(\"TSLA\")"
   ]
  },
  {
   "cell_type": "code",
   "execution_count": 10,
   "id": "076865ec-273e-41ed-822c-b7712c71b224",
   "metadata": {},
   "outputs": [
    {
     "name": "stdout",
     "output_type": "stream",
     "text": [
      "                               Open      High       Low     Close     Volume  \\\n",
      "Date                                                                           \n",
      "2010-06-29 00:00:00-04:00  1.266667  1.666667  1.169333  1.592667  281494500   \n",
      "2010-06-30 00:00:00-04:00  1.719333  2.028000  1.553333  1.588667  257806500   \n",
      "2010-07-01 00:00:00-04:00  1.666667  1.728000  1.351333  1.464000  123282000   \n",
      "2010-07-02 00:00:00-04:00  1.533333  1.540000  1.247333  1.280000   77097000   \n",
      "2010-07-06 00:00:00-04:00  1.333333  1.333333  1.055333  1.074000  103003500   \n",
      "\n",
      "                           Dividends  Stock Splits  \n",
      "Date                                                \n",
      "2010-06-29 00:00:00-04:00        0.0           0.0  \n",
      "2010-06-30 00:00:00-04:00        0.0           0.0  \n",
      "2010-07-01 00:00:00-04:00        0.0           0.0  \n",
      "2010-07-02 00:00:00-04:00        0.0           0.0  \n",
      "2010-07-06 00:00:00-04:00        0.0           0.0  \n"
     ]
    }
   ],
   "source": [
    "tesla_data = Tesla.history(period = \"max\")\n",
    "print(tesla_data.head())"
   ]
  },
  {
   "cell_type": "code",
   "execution_count": 11,
   "id": "a2447c96-3f72-49d7-ab53-55bf735d5b7b",
   "metadata": {},
   "outputs": [
    {
     "name": "stdout",
     "output_type": "stream",
     "text": [
      "                       Date      Open      High       Low     Close  \\\n",
      "0 2010-06-29 00:00:00-04:00  1.266667  1.666667  1.169333  1.592667   \n",
      "1 2010-06-30 00:00:00-04:00  1.719333  2.028000  1.553333  1.588667   \n",
      "2 2010-07-01 00:00:00-04:00  1.666667  1.728000  1.351333  1.464000   \n",
      "3 2010-07-02 00:00:00-04:00  1.533333  1.540000  1.247333  1.280000   \n",
      "4 2010-07-06 00:00:00-04:00  1.333333  1.333333  1.055333  1.074000   \n",
      "\n",
      "      Volume  Dividends  Stock Splits  \n",
      "0  281494500        0.0           0.0  \n",
      "1  257806500        0.0           0.0  \n",
      "2  123282000        0.0           0.0  \n",
      "3   77097000        0.0           0.0  \n",
      "4  103003500        0.0           0.0  \n"
     ]
    }
   ],
   "source": [
    "tesla_data.reset_index(inplace=True)\n",
    "print(tesla_data.head())"
   ]
  },
  {
   "cell_type": "code",
   "execution_count": 12,
   "id": "18505e2f-7471-4c0a-9607-085b039f1981",
   "metadata": {},
   "outputs": [],
   "source": [
    "# Using Webscraping to extract Tesla Revenue Data\n",
    "url = \"https://cf-courses-data.s3.us.cloud-object-storage.appdomain.cloud/IBMDeveloperSkillsNetwork-PY0220EN-SkillsNetwork/labs/project/revenue.htm\"\n",
    "response = requests.get(url)\n",
    "html_data = response.text"
   ]
  },
  {
   "cell_type": "code",
   "execution_count": 14,
   "id": "c14989d1-42e5-41de-b586-8c70af88e810",
   "metadata": {},
   "outputs": [],
   "source": [
    "# Parse the HTML data using BeautifulSoup\n",
    "soup = BeautifulSoup(html_data, 'html.parser')"
   ]
  },
  {
   "cell_type": "code",
   "execution_count": 15,
   "id": "78eb2df7-3f9f-4198-8c47-2b45a0521b85",
   "metadata": {},
   "outputs": [],
   "source": [
    "# Use read_html to extract tables from the webpage\n",
    "tables = pd.read_html(url)\n",
    "\n",
    "tesla_revenue = tables[0]\n",
    "\n",
    "tesla_revenue.columns = ['Date', 'Revenue']"
   ]
  },
  {
   "cell_type": "code",
   "execution_count": 16,
   "id": "66d48a73-8c87-4fe0-afc8-ceba2297fe1b",
   "metadata": {},
   "outputs": [],
   "source": [
    "tesla_revenue[\"Revenue\"] = tesla_revenue['Revenue'].str.replace(',|\\$',\"\")"
   ]
  },
  {
   "cell_type": "code",
   "execution_count": 17,
   "id": "cf6fc5c2-26ed-4e15-afbc-407391307029",
   "metadata": {},
   "outputs": [],
   "source": [
    "tesla_revenue.dropna(inplace=True)\n",
    "\n",
    "tesla_revenue = tesla_revenue[tesla_revenue['Revenue'] != \"\"]"
   ]
  },
  {
   "cell_type": "code",
   "execution_count": 18,
   "id": "9f6bda76-d9b4-4fcf-8fcc-6385862e81e9",
   "metadata": {},
   "outputs": [
    {
     "name": "stdout",
     "output_type": "stream",
     "text": [
      "    Date Revenue\n",
      "8   2013  $2,013\n",
      "9   2012    $413\n",
      "10  2011    $204\n",
      "11  2010    $117\n",
      "12  2009    $112\n"
     ]
    }
   ],
   "source": [
    "print(tesla_revenue.tail())"
   ]
  },
  {
   "cell_type": "code",
   "execution_count": 19,
   "id": "5e05df39-cfbb-46f1-8a1a-2c812a6d63db",
   "metadata": {},
   "outputs": [],
   "source": [
    "# Use yfinance to extract Stock Data\n",
    "GameStop = yf.Ticker(\"GME\")"
   ]
  },
  {
   "cell_type": "code",
   "execution_count": 20,
   "id": "dab5faac-36af-475d-aa3f-8f89d3ec6854",
   "metadata": {},
   "outputs": [
    {
     "name": "stdout",
     "output_type": "stream",
     "text": [
      "                               Open      High       Low     Close    Volume  \\\n",
      "Date                                                                          \n",
      "2002-02-13 00:00:00-05:00  1.620128  1.693350  1.603296  1.691666  76216000   \n",
      "2002-02-14 00:00:00-05:00  1.712707  1.716074  1.670626  1.683250  11021600   \n",
      "2002-02-15 00:00:00-05:00  1.683251  1.687459  1.658002  1.674834   8389600   \n",
      "2002-02-19 00:00:00-05:00  1.666418  1.666418  1.578047  1.607504   7410400   \n",
      "2002-02-20 00:00:00-05:00  1.615920  1.662210  1.603296  1.662210   6892800   \n",
      "\n",
      "                           Dividends  Stock Splits  \n",
      "Date                                                \n",
      "2002-02-13 00:00:00-05:00        0.0           0.0  \n",
      "2002-02-14 00:00:00-05:00        0.0           0.0  \n",
      "2002-02-15 00:00:00-05:00        0.0           0.0  \n",
      "2002-02-19 00:00:00-05:00        0.0           0.0  \n",
      "2002-02-20 00:00:00-05:00        0.0           0.0  \n"
     ]
    }
   ],
   "source": [
    "gme_data = GameStop.history(period = \"max\")\n",
    "print(gme_data.head())"
   ]
  },
  {
   "cell_type": "code",
   "execution_count": 21,
   "id": "47854a88-9dcf-4f56-806d-639220461f91",
   "metadata": {},
   "outputs": [
    {
     "name": "stdout",
     "output_type": "stream",
     "text": [
      "                       Date      Open      High       Low     Close    Volume  \\\n",
      "0 2002-02-13 00:00:00-05:00  1.620128  1.693350  1.603296  1.691666  76216000   \n",
      "1 2002-02-14 00:00:00-05:00  1.712707  1.716074  1.670626  1.683250  11021600   \n",
      "2 2002-02-15 00:00:00-05:00  1.683251  1.687459  1.658002  1.674834   8389600   \n",
      "3 2002-02-19 00:00:00-05:00  1.666418  1.666418  1.578047  1.607504   7410400   \n",
      "4 2002-02-20 00:00:00-05:00  1.615920  1.662210  1.603296  1.662210   6892800   \n",
      "\n",
      "   Dividends  Stock Splits  \n",
      "0        0.0           0.0  \n",
      "1        0.0           0.0  \n",
      "2        0.0           0.0  \n",
      "3        0.0           0.0  \n",
      "4        0.0           0.0  \n"
     ]
    }
   ],
   "source": [
    "gme_data.reset_index(inplace=True)\n",
    "print(gme_data.head())"
   ]
  },
  {
   "cell_type": "code",
   "execution_count": 36,
   "id": "c59ae665-01ce-4d94-8b2b-f90712dd31e4",
   "metadata": {},
   "outputs": [
    {
     "data": {
      "text/plain": [
       "'<!DOCTYPE html>\\n<!-- saved from url=(0105)https://web.archive.org/web/20200814131437/https://www.macrotrends.net/stocks/charts/GME/gamestop/revenue -->\\n<html class=\" js flexbox canvas canvastext webgl no-touch geolocation postmessage websqldatabase indexeddb hashchange history draganddrop websockets rgba hsla multiplebgs backgroundsize borderimage borderradius boxshadow textshadow opacity cssanimations csscolumns cssgradients cssreflections csstransforms csstransforms3d csstransitions fontface g'"
      ]
     },
     "execution_count": 36,
     "metadata": {},
     "output_type": "execute_result"
    }
   ],
   "source": [
    "# Use Webscraping to extract GME Revenue Data\n",
    "import requests\n",
    "\n",
    "url = \"https://cf-courses-data.s3.us.cloud-object-storage.appdomain.cloud/IBMDeveloperSkillsNetwork-PY0220EN-SkillsNetwork/labs/project/stock.html\"\n",
    "\n",
    "response = requests.get(url)\n",
    "\n",
    "html_data_2 = response.text\n",
    "\n",
    "html_data_2[:500]"
   ]
  },
  {
   "cell_type": "code",
   "execution_count": 37,
   "id": "7b97f02e-f39b-40f7-8aca-fe7664b06790",
   "metadata": {},
   "outputs": [],
   "source": [
    "from bs4 import BeautifulSoup\n",
    "soup = BeautifulSoup(html_data_2, 'html.parser') "
   ]
  },
  {
   "cell_type": "markdown",
   "id": "84f4f3e2-d832-410e-8416-7d44ffd15dd5",
   "metadata": {},
   "source": [
    "Using BeautifulSoup or the read_html function extract the table with GameStop Revenue and store it into a dataframe named gme_revenue. The dataframe should have columns Date and Revenue. Make sure the comma and dollar sign is removed from the Revenue column."
   ]
  },
  {
   "cell_type": "code",
   "execution_count": 38,
   "id": "787815e7-f23f-4e71-8607-79040955c581",
   "metadata": {},
   "outputs": [
    {
     "name": "stdout",
     "output_type": "stream",
     "text": [
      "Table found. Extracting data...\n",
      "Extracted Headers: ['GameStop Annual Revenue(Millions of US $)']\n",
      "Row skipped due to mismatch: ['2020', '$6,466']\n",
      "Row skipped due to mismatch: ['2019', '$8,285']\n",
      "Row skipped due to mismatch: ['2018', '$8,547']\n",
      "Row skipped due to mismatch: ['2017', '$7,965']\n",
      "Row skipped due to mismatch: ['2016', '$9,364']\n",
      "Row skipped due to mismatch: ['2015', '$9,296']\n",
      "Row skipped due to mismatch: ['2014', '$9,040']\n",
      "Row skipped due to mismatch: ['2013', '$8,887']\n",
      "Row skipped due to mismatch: ['2012', '$9,551']\n",
      "Row skipped due to mismatch: ['2011', '$9,474']\n",
      "Row skipped due to mismatch: ['2010', '$9,078']\n",
      "Row skipped due to mismatch: ['2009', '$8,806']\n",
      "Row skipped due to mismatch: ['2008', '$7,094']\n",
      "Row skipped due to mismatch: ['2007', '$5,319']\n",
      "Row skipped due to mismatch: ['2006', '$3,092']\n",
      "Row skipped due to mismatch: ['2005', '$1,843']\n",
      "No valid rows were extracted for the DataFrame.\n"
     ]
    }
   ],
   "source": [
    "import pandas as pd\n",
    "import requests\n",
    "from bs4 import BeautifulSoup\n",
    "\n",
    "\n",
    "url = \"https://cf-courses-data.s3.us.cloud-object-storage.appdomain.cloud/IBMDeveloperSkillsNetwork-PY0220EN-SkillsNetwork/labs/project/stock.html\"\n",
    "response = requests.get(url)\n",
    "html_data_2 = response.text\n",
    "\n",
    "\n",
    "soup = BeautifulSoup(html_data_2, 'html.parser')\n",
    "\n",
    "table = soup.find('table')\n",
    "if table is None:\n",
    "    print(\"Table not found.\")\n",
    "else:\n",
    "    print(\"Table found. Extracting data...\")\n",
    "\n",
    "headers = [header.text.strip() for header in table.find_all('th')]\n",
    "print(f\"Extracted Headers: {headers}\")\n",
    "\n",
    "rows = []\n",
    "for row in table.find_all('tr')[1:]: \n",
    "    columns = row.find_all('td')\n",
    "    if len(columns) == len(headers):  \n",
    "        rows.append([column.text.strip() for column in columns])\n",
    "    else:\n",
    "        print(f\"Row skipped due to mismatch: {[column.text.strip() for column in columns]}\")\n",
    "\n",
    "if rows:\n",
    "    gme_revenue = pd.DataFrame(rows, columns=headers)\n",
    "\n",
    "    gme_revenue['Revenue'] = gme_revenue['Revenue'].replace({'\\$': '', ',': ''}, regex=True).astype(float)\n",
    "\n",
    "    last_five_rows = gme_revenue.tail()\n",
    "    print(last_five_rows)\n",
    "else:\n",
    "    print(\"No valid rows were extracted for the DataFrame.\")"
   ]
  },
  {
   "cell_type": "code",
   "execution_count": 39,
   "id": "82062d98-a39a-4851-b010-df009419ddc2",
   "metadata": {},
   "outputs": [
    {
     "name": "stdout",
     "output_type": "stream",
     "text": [
      "Dates extracted: 0     2020-04-30\n",
      "1     2020-01-31\n",
      "2     2019-10-31\n",
      "3     2019-07-31\n",
      "4     2019-04-30\n",
      "         ...    \n",
      "57    2006-01-31\n",
      "58    2005-10-31\n",
      "59    2005-07-31\n",
      "60    2005-04-30\n",
      "61    2005-01-31\n",
      "Name: Date, Length: 62, dtype: object\n",
      "  Date  Revenue\n",
      "0  NaT   1021.0\n",
      "1  NaT   2194.0\n",
      "2  NaT   1439.0\n",
      "3  NaT   1286.0\n",
      "4  NaT   1548.0\n"
     ]
    }
   ],
   "source": [
    "url = \"https://cf-courses-data.s3.us.cloud-object-storage.appdomain.cloud/IBMDeveloperSkillsNetwork-PY0220EN-SkillsNetwork/labs/project/stock.html\"\n",
    "response = requests.get(url)\n",
    "\n",
    "\n",
    "html_data_2 = response.text\n",
    "soup = BeautifulSoup(html_data_2, 'html.parser')\n",
    "\n",
    "\n",
    "table = soup.find_all(\"tbody\")[1]  \n",
    "\n",
    "# Step 4: Extract data from the table\n",
    "data = []\n",
    "for row in table.find_all(\"tr\"):\n",
    "    cols = row.find_all(\"td\")\n",
    "    if len(cols) == 2: \n",
    "       \n",
    "        year = cols[0].text.strip() \n",
    "        revenue_str = cols[1].text.strip().replace('$', '').replace(',', '')  \n",
    "        \n",
    "        try:\n",
    "            revenue = float(revenue_str)  \n",
    "            data.append([year, revenue])  \n",
    "        except ValueError:\n",
    "            print(f\"Row skipped due to revenue conversion error: {cols[1].text.strip()}\")\n",
    "    else:\n",
    "        print(f\"Row skipped due to mismatch: {[col.text.strip() for col in cols]}\")\n",
    "\n",
    "if data:\n",
    "    gme_revenue = pd.DataFrame(data, columns=['Date', 'Revenue'])\n",
    "    \n",
    "\n",
    "    print(\"Dates extracted:\", gme_revenue['Date'])\n",
    "\n",
    "\n",
    "    try:\n",
    "        gme_revenue['Date'] = pd.to_datetime(gme_revenue['Date'], format='%Y', errors='coerce')  \n",
    "    except Exception as e:\n",
    "        print(\"Error converting Date:\", e)\n",
    "    \n",
    "else:\n",
    "    print(\"No valid rows were extracted for the DataFrame.\")\n",
    "    gme_revenue = pd.DataFrame(columns=['Date', 'Revenue'])  \n",
    "\n",
    "print(gme_revenue.head())"
   ]
  },
  {
   "cell_type": "code",
   "execution_count": null,
   "id": "7babf29a-7aa0-49bb-acd0-303627830939",
   "metadata": {},
   "outputs": [],
   "source": [
    "# Plot Tesla Stock Grap"
   ]
  },
  {
   "cell_type": "markdown",
   "id": "f8904c8d-80fa-44be-a05e-2d73367c7a1c",
   "metadata": {},
   "source": [
    "# Plot Tesla Stock Graph"
   ]
  },
  {
   "cell_type": "code",
   "execution_count": 40,
   "id": "76f4b368-b23a-404e-8fb9-b3ca578aef60",
   "metadata": {},
   "outputs": [],
   "source": [
    "def make_graph(tesla_data, tesla_revenue, Tesla):\n",
    "    # Ensure Date columns are datetime and handle invalid dates\n",
    "    tesla_data['Date'] = pd.to_datetime(tesla_data['Date'], errors='coerce')\n",
    "    tesla_revenue['Date'] = pd.to_datetime(tesla_revenue['Date'], errors='coerce')\n",
    "\n",
    "    # Filter data for specific date ranges\n",
    "    stock_data_specific = tesla_data[tesla_data.Date <= '2021-06-14']\n",
    "    revenue_data_specific = tesla_revenue[tesla_revenue.Date <= '2021-04-30']\n",
    "\n",
    "    # Create subplots\n",
    "    fig = make_subplots(rows=2, cols=1, shared_xaxes=True, subplot_titles=(\"Historical Share Price\", \"Historical Revenue\"), vertical_spacing=0.3)\n",
    "\n",
    "    # Add stock price trace\n",
    "    fig.add_trace(go.Scatter(x=stock_data_specific['Date'], y=stock_data_specific['Close'].astype(\"float\"), name=\"Share Price\"), row=1, col=1)\n",
    "\n",
    "    # Add revenue trace\n",
    "    fig.add_trace(go.Scatter(x=revenue_data_specific['Date'], y=revenue_data_specific['Revenue'].astype(\"float\"), name=\"Revenue\"), row=2, col=1)\n",
    "\n",
    "    # Update axis titles\n",
    "    fig.update_xaxes(title_text=\"Date\", row=1, col=1)\n",
    "    fig.update_xaxes(title_text=\"Date\", row=2, col=1)\n",
    "    fig.update_yaxes(title_text=\"Price ($US)\", row=1, col=1)\n",
    "    fig.update_yaxes(title_text=\"Revenue ($US Millions)\", row=2, col=1)\n",
    "\n",
    "    # Layout adjustments\n",
    "    fig.update_layout(showlegend=False, height=900, title=Tesla, xaxis_rangeslider_visible=True)\n",
    "\n",
    "    # Show the figure\n",
    "    fig.show()\n"
   ]
  },
  {
   "cell_type": "markdown",
   "id": "d5c6cf20-6aec-4e78-8265-f6f223f00f2d",
   "metadata": {},
   "source": [
    "#  Plot GameStop Stock Graph"
   ]
  },
  {
   "cell_type": "code",
   "execution_count": 30,
   "id": "d297f82c-b133-4218-adae-46e6af637cc0",
   "metadata": {},
   "outputs": [],
   "source": [
    "def make_graph(gme_data, gme_revenue, GameStop):\n",
    "    # Ensure Date columns are datetime and handle invalid dates\n",
    "    gme_data['Date'] = pd.to_datetime(gme_data['Date'], errors='coerce')\n",
    "    gme_revenue['Date'] = pd.to_datetime(gme_revenue['Date'], errors='coerce')\n",
    "\n",
    "    # Filter data for specific date ranges\n",
    "    stock_data_specific = gme_data[gme_data.Date <= '2021-06-14']\n",
    "    revenue_data_specific = gme_revenue[gme_revenue.Date <= '2021-04-30']\n",
    "\n",
    "    # Create subplots\n",
    "    fig = make_subplots(rows=2, cols=1, shared_xaxes=True, subplot_titles=(\"Historical Share Price\", \"Historical Revenue\"), vertical_spacing=0.3)\n",
    "\n",
    "    # Add stock price trace\n",
    "    fig.add_trace(go.Scatter(x=stock_data_specific['Date'], y=stock_data_specific['Close'].astype(\"float\"), name=\"Share Price\"), row=1, col=1)\n",
    "\n",
    "    # Add revenue trace\n",
    "    fig.add_trace(go.Scatter(x=revenue_data_specific['Date'], y=revenue_data_specific['Revenue'].astype(\"float\"), name=\"Revenue\"), row=2, col=1)\n",
    "\n",
    "    # Update axis titles\n",
    "    fig.update_xaxes(title_text=\"Date\", row=1, col=1)\n",
    "    fig.update_xaxes(title_text=\"Date\", row=2, col=1)\n",
    "    fig.update_yaxes(title_text=\"Price ($US)\", row=1, col=1)\n",
    "    fig.update_yaxes(title_text=\"Revenue ($US Millions)\", row=2, col=1)\n",
    "\n",
    "    # Layout adjustments\n",
    "    fig.update_layout(showlegend=False, height=900, title=GameStop, xaxis_rangeslider_visible=True)\n",
    "\n",
    "    # Show the figure\n",
    "    fig.show()\n"
   ]
  },
  {
   "cell_type": "code",
   "execution_count": null,
   "id": "03396547-90ce-4330-8497-904a1f099f7b",
   "metadata": {},
   "outputs": [],
   "source": []
  }
 ],
 "metadata": {
  "kernelspec": {
   "display_name": "Python 3 (ipykernel)",
   "language": "python",
   "name": "python3"
  },
  "language_info": {
   "codemirror_mode": {
    "name": "ipython",
    "version": 3
   },
   "file_extension": ".py",
   "mimetype": "text/x-python",
   "name": "python",
   "nbconvert_exporter": "python",
   "pygments_lexer": "ipython3",
   "version": "3.11.7"
  }
 },
 "nbformat": 4,
 "nbformat_minor": 5
}
